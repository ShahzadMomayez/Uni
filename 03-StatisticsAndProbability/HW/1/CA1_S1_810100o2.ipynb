{
  "nbformat": 4,
  "nbformat_minor": 0,
  "metadata": {
    "colab": {
      "provenance": []
    },
    "kernelspec": {
      "name": "python3",
      "display_name": "Python 3"
    },
    "language_info": {
      "name": "python"
    }
  },
  "cells": [
    {
      "cell_type": "code",
      "execution_count": null,
      "metadata": {
        "id": "BZ6l2ZJwMm0E",
        "colab": {
          "base_uri": "https://localhost:8080/"
        },
        "outputId": "6a51b9b9-79ca-43e4-9f54-54ab434b8e7a"
      },
      "outputs": [
        {
          "output_type": "stream",
          "name": "stdout",
          "text": [
            "Looking in indexes: https://pypi.org/simple, https://us-python.pkg.dev/colab-wheels/public/simple/\n",
            "Collecting rpy2==3.5.1\n",
            "  Downloading rpy2-3.5.1.tar.gz (201 kB)\n",
            "\u001b[K     |████████████████████████████████| 201 kB 29.5 MB/s \n",
            "\u001b[?25hRequirement already satisfied: cffi>=1.10.0 in /usr/local/lib/python3.7/dist-packages (from rpy2==3.5.1) (1.15.1)\n",
            "Requirement already satisfied: jinja2 in /usr/local/lib/python3.7/dist-packages (from rpy2==3.5.1) (2.11.3)\n",
            "Requirement already satisfied: pytz in /usr/local/lib/python3.7/dist-packages (from rpy2==3.5.1) (2022.5)\n",
            "Requirement already satisfied: tzlocal in /usr/local/lib/python3.7/dist-packages (from rpy2==3.5.1) (1.5.1)\n",
            "Requirement already satisfied: typing-extensions in /usr/local/lib/python3.7/dist-packages (from rpy2==3.5.1) (4.1.1)\n",
            "Requirement already satisfied: pycparser in /usr/local/lib/python3.7/dist-packages (from cffi>=1.10.0->rpy2==3.5.1) (2.21)\n",
            "Requirement already satisfied: MarkupSafe>=0.23 in /usr/local/lib/python3.7/dist-packages (from jinja2->rpy2==3.5.1) (2.0.1)\n",
            "Building wheels for collected packages: rpy2\n",
            "  Building wheel for rpy2 (setup.py) ... \u001b[?25l\u001b[?25hdone\n",
            "  Created wheel for rpy2: filename=rpy2-3.5.1-cp37-cp37m-linux_x86_64.whl size=310601 sha256=1e161154872dfc4f44643cf3ca89308adee2e960de4d3f8a03159299e128448d\n",
            "  Stored in directory: /root/.cache/pip/wheels/65/df/9e/39aa22a3f47ec58751b5bf6907036fbc131d85b6d7cbd3b3fe\n",
            "Successfully built rpy2\n",
            "Installing collected packages: rpy2\n",
            "  Attempting uninstall: rpy2\n",
            "    Found existing installation: rpy2 3.5.5\n",
            "    Uninstalling rpy2-3.5.5:\n",
            "      Successfully uninstalled rpy2-3.5.5\n",
            "Successfully installed rpy2-3.5.1\n"
          ]
        }
      ],
      "source": [
        "!pip install rpy2==3.5.1\n",
        "%load_ext rpy2.ipython\n",
        "\n"
      ]
    },
    {
      "cell_type": "markdown",
      "metadata": {
        "id": "0xnYepbohl5D"
      },
      "source": [
        "<div dir='rtl'>\n",
        "<h1>1. تعریف حدی احتمال (Probability Definition)</h1>\n",
        "</div>"
      ]
    },
    {
      "cell_type": "markdown",
      "metadata": {
        "id": "Tv6Qew7WBywe"
      },
      "source": [
        "<div dir='rtl'>\n",
        "طبق تعریف حدی احتمال:\n",
        "$$\n",
        "P(A) = \\lim_{n \\to +\\infty} \\frac{n_A}{n}\n",
        "$$\n",
        "قصد داریم صحت این رابطه را بصورت عملی بررسی کنیم.\n",
        "این سنجش فقط به صورت شهودی بوده و موضوعیتی را اثبات نمی‌کند (قابل اتکا نیست)؛\n",
        "اما هدف انجام آزمایش‌های آماری با استفاده از زبان\n",
        "R\n",
        "و آشنایی با این زبان است.\n",
        "</div>"
      ]
    },
    {
      "cell_type": "markdown",
      "metadata": {
        "id": "-RndXix3qGPp"
      },
      "source": [
        "<div dir='rtl'>\n",
        "این مثال را در نظر بگیرید:\n",
        "<br/>\n",
        "یک سکه و یک تاس را می‌اندازیم و می‌خواهیم احتمال این را حساب کنیم که سکه شیر بیاید و تاس هم زوج باشد.\n",
        "</div>"
      ]
    },
    {
      "cell_type": "markdown",
      "metadata": {
        "id": "nVUySo5lI_yB"
      },
      "source": [
        "<div dir='rtl'>\n",
        "می‌دانیم که هر تاس ۶ وجه دارد و همچنین سکه دو حالت شیر یا خط را شامل می‌شود. طبق اصل ضرب، تعداد پیش‌آمد‌های ممکن برای پرتاب سکه و تاس، برابر $6 \\times 2 = 12$ خواهد بود.\n",
        "مجموعه پیش‌آمد‌های مطلوب ما عبارت خواهد بود از:\n",
        "$$\\{(h,2),(h,4),(h,6)\\}$$\n",
        "با فرض عادلانه بودن آزمایش و سالم بودن تاس‌ و سکه، احتمالات رو آمدن هر یک از وجوه یک تاس و شیر یا خط آمدن سکه یکسان هستند. بنابراین، احتمال مشاهده هر یک از زوج مرتب‌های ممکن نیز  یکسان هستند، پس می‌توانیم از تعریف کلاسیک احتمال استفاده کرده و نتیجه بگیریم که احتمال مشاهده نتیجه مطلوب ما برابر\n",
        "$\\frac{3}{12} = 0.25$\n",
        "خواهد بود.\n",
        "</div>"
      ]
    },
    {
      "cell_type": "markdown",
      "metadata": {
        "id": "HueHzYKWLUSN"
      },
      "source": [
        "<div dir='rtl'>\n",
        "حال به تخمین این احتمال، با استفاده از تعریف حدی احتمال می‌پردازیم. در ابتدا نیاز داریم فضای پیشامد این مثال را آماده کنیم:\n",
        "</div>"
      ]
    },
    {
      "cell_type": "code",
      "source": [
        "%%R\n",
        "dice_possible_observations = seq(1, 6)\n",
        "# The above variable represents all possible observations for one dice roll.\n",
        "# Note that `seq(x,y)` returns an array of integers from x to y\n",
        "dice_possible_observations"
      ],
      "metadata": {
        "id": "VO8hzoDVM4gG",
        "colab": {
          "base_uri": "https://localhost:8080/"
        },
        "outputId": "8b409704-1533-4db4-8108-1be2ae028965"
      },
      "execution_count": null,
      "outputs": [
        {
          "output_type": "stream",
          "name": "stdout",
          "text": [
            "[1] 1 2 3 4 5 6\n"
          ]
        }
      ]
    },
    {
      "cell_type": "markdown",
      "source": [
        "<a href=\"https://www.rdocumentation.org/packages/base/versions/3.6.2/topics/seq\">Read more about `seq`</a>"
      ],
      "metadata": {
        "id": "sshsA76wxa6U"
      }
    },
    {
      "cell_type": "code",
      "source": [
        "%%R\n",
        "dice_observation_chance_to_appear = rep(1/6, 6)\n",
        "# `rep(x,y)` returns an array with length y, filled with x values.\n",
        "# We will use i-th element of this array as the i-th possible observation\n",
        "# chance to appear.\n",
        "# Normally, each possible side of a dice has similar chance to appear,\n",
        "# thus the array is filled with 1/6.\n",
        "dice_observation_chance_to_appear"
      ],
      "metadata": {
        "id": "1yWEwolg_TtQ",
        "outputId": "ed707fc1-e7db-4cb3-9315-74f7088ed894",
        "colab": {
          "base_uri": "https://localhost:8080/"
        }
      },
      "execution_count": null,
      "outputs": [
        {
          "output_type": "stream",
          "name": "stdout",
          "text": [
            "[1] 0.1666667 0.1666667 0.1666667 0.1666667 0.1666667 0.1666667\n"
          ]
        }
      ]
    },
    {
      "cell_type": "markdown",
      "source": [
        "<a href=\"https://www.rdocumentation.org/packages/base/versions/3.6.2/topics/rep\">Read more about `rep`</a>"
      ],
      "metadata": {
        "id": "AQ1rBmk3yWZA"
      }
    },
    {
      "cell_type": "code",
      "source": [
        "%%R\n",
        "\n",
        "coin_possible_observations = seq(1, 2)\n",
        "# The above variable represents all possible observations for one coin flip.\n",
        "# The coin flip results, head and tail, are mapped to 1 and 2 respectively.\n",
        "coin_possible_observations"
      ],
      "metadata": {
        "id": "WVeg319NVMIv",
        "colab": {
          "base_uri": "https://localhost:8080/"
        },
        "outputId": "5473d47d-b991-475c-b7ff-ba1acf36b9ad"
      },
      "execution_count": null,
      "outputs": [
        {
          "output_type": "stream",
          "name": "stdout",
          "text": [
            "[1] 1 2\n"
          ]
        }
      ]
    },
    {
      "cell_type": "code",
      "source": [
        "%%R\n",
        "\n",
        "coin_observation_chance_to_appear = rep(1/2, 2)\n",
        "coin_observation_chance_to_appear"
      ],
      "metadata": {
        "id": "6W7n3DJfVNpd",
        "outputId": "446f130e-a4eb-469f-df5d-814074f8fd7a",
        "colab": {
          "base_uri": "https://localhost:8080/"
        }
      },
      "execution_count": null,
      "outputs": [
        {
          "output_type": "stream",
          "name": "stdout",
          "text": [
            "[1] 0.5 0.5\n"
          ]
        }
      ]
    },
    {
      "cell_type": "markdown",
      "metadata": {
        "id": "mtxO7h1_1sU1"
      },
      "source": [
        "<h2 dir='rtl'>\n",
        "نمونه گیری (Sampling)\n",
        "</h2>\n",
        "\n",
        "<div dir='rtl'>\n",
        "روش نمونه‌گیری، فرآیندی است که به کمک آن زیرمجموعه‌ای از جامعه آماری تهیه می‌شود. این کار به منظور شناخت یا برآورد پارامترهای جامعه آماری صورت می‌گیرد. برای انجام نمونه‌گیری در R، از دستور sample استفاده می‌کنیم.<br>\n",
        "برای مطالعه بیشتر به <a href=\"https://www.rdocumentation.org/packages/base/versions/3.6.2/topics/sample\">این</a> لینک مراجعه کنید.\n",
        "</div>"
      ]
    },
    {
      "cell_type": "code",
      "source": [
        "%%R\n",
        "sample(\n",
        "  x = dice_possible_observations,\n",
        "  size = 3,\n",
        "  replace = TRUE,\n",
        "  prob = dice_observation_chance_to_appear\n",
        ")\n",
        "\n",
        "# Above code, will return a single output as a dice observation.\n",
        "# Checkout the result. Rerun it multiple times to get different results."
      ],
      "metadata": {
        "id": "KXWYcAnO_Z7F",
        "outputId": "be9ca1d2-5894-4f38-eda1-7e1df4adbf41",
        "colab": {
          "base_uri": "https://localhost:8080/"
        }
      },
      "execution_count": null,
      "outputs": [
        {
          "output_type": "stream",
          "name": "stdout",
          "text": [
            "[1] 5 3 3\n"
          ]
        }
      ]
    },
    {
      "cell_type": "code",
      "source": [
        "%%R\n",
        "sample(\n",
        "  x = coin_possible_observations,\n",
        "  size = 3,\n",
        "  replace = TRUE,\n",
        "  prob = coin_observation_chance_to_appear\n",
        ")"
      ],
      "metadata": {
        "id": "SqpBc0abVwID",
        "outputId": "d4debda9-e83e-4a54-a7a1-6c5a11ca7d52",
        "colab": {
          "base_uri": "https://localhost:8080/"
        }
      },
      "execution_count": null,
      "outputs": [
        {
          "output_type": "stream",
          "name": "stdout",
          "text": [
            "[1] 2 2 2\n"
          ]
        }
      ]
    },
    {
      "cell_type": "code",
      "source": [
        "%%R\n",
        "\n",
        "# Here's how to define a function which samples n dice rolls.\n",
        "sample_of_n_dice <- function(n) {\n",
        "  return (\n",
        "      sample(\n",
        "  x = dice_possible_observations,\n",
        "  size = n,\n",
        "  replace = TRUE,\n",
        "  prob = dice_observation_chance_to_appear\n",
        ")\n",
        "    ###################################################################\n",
        "    # Code Here                                                       #\n",
        "    # This function should return n sample results of rolling a dice. #\n",
        "    ###################################################################\n",
        "  )\n",
        "}\n",
        "\n",
        "sample_of_n_dice(4)"
      ],
      "metadata": {
        "id": "7k-r3UlG_cJL",
        "outputId": "851b0bc4-4a6b-4e85-ea03-218b7d6a6944",
        "colab": {
          "base_uri": "https://localhost:8080/"
        }
      },
      "execution_count": null,
      "outputs": [
        {
          "output_type": "stream",
          "name": "stdout",
          "text": [
            "[1] 5 2 1 2\n"
          ]
        }
      ]
    },
    {
      "cell_type": "code",
      "source": [
        "%%R\n",
        "\n",
        "sample_of_n_coin <- function(n) {\n",
        "  return (\n",
        "    ####################################################################\n",
        "    # Code Here                                                        #\n",
        "    # This function should return n sample results of flipping a coin. #\n",
        "    ###################################################################\n",
        "    sample(\n",
        "  x = coin_possible_observations,\n",
        "  size = n,\n",
        "  replace = TRUE,\n",
        "  prob = coin_observation_chance_to_appear\n",
        ")\n",
        "  )\n",
        "}\n",
        "\n",
        "sample_of_n_coin(3)"
      ],
      "metadata": {
        "id": "Ln_iOIAwdApB",
        "outputId": "56998371-d58c-4bfd-aaed-0f59b58835e5",
        "colab": {
          "base_uri": "https://localhost:8080/"
        }
      },
      "execution_count": null,
      "outputs": [
        {
          "output_type": "stream",
          "name": "stdout",
          "text": [
            "[1] 2 2 1\n"
          ]
        }
      ]
    },
    {
      "cell_type": "code",
      "source": [
        "%%R\n",
        "# The below function generates a pair of coin flip and dice roll.\n",
        "flip_coin_roll_dice <- function(n) {\n",
        "        vect<- c(sample_of_n_dice(n),sample_of_n_coin(n))\n",
        "  return (\n",
        "\n",
        "    vect\n",
        "    ###############################################################\n",
        "    # Code Here                                                   #\n",
        "    # This function should return tuple of flipping n coins and   #\n",
        "    # rolling n dices.                                            #\n",
        "    ###############################################################\n",
        "  )\n",
        "}\n",
        "flip_coin_roll_dice(1)"
      ],
      "metadata": {
        "id": "jRuCXGIn_dzE",
        "outputId": "c44316be-e5d2-4af6-e1d0-240802e7f034",
        "colab": {
          "base_uri": "https://localhost:8080/"
        }
      },
      "execution_count": null,
      "outputs": [
        {
          "output_type": "stream",
          "name": "stdout",
          "text": [
            "[1] 1 1\n"
          ]
        }
      ]
    },
    {
      "cell_type": "markdown",
      "metadata": {
        "id": "ouC80O1KzWHm"
      },
      "source": [
        "<div dir='rtl'>\n",
        "حال در دو بلوک بعدی فرآیند آزمایش را شبیه‌سازی می‌کنیم.\n",
        "</div>"
      ]
    },
    {
      "cell_type": "code",
      "source": [
        "%%R\n",
        "# Now we need to repeat the test and collect our observations.\n",
        "rownames = seq(1,6)\n",
        "colnames = seq(1,2)\n",
        "# We need to record our observations, we can use a matrix for this.\n",
        "# The matrix contains the number of observations for each possible outcome.\n",
        "\n",
        "# Each column represents a possible outcome of one coin flip. 1 means the coin\n",
        "# shows the head side and 2 means it shows the tail side.\n",
        "# Each row represents the output of one dice roll, which ranges from 1 to 6.\n",
        "\n",
        "# For each observation, the respective element of the matrix must be incremented.\n",
        "# For example, if the flip and roll sample resulted in (1,6) the matrix must be\n",
        "# updated as follows:\n",
        "# observations[1, 6] = observations[1, 6]+1 (increment the value stored in the\n",
        "# matrix)\n",
        "\n",
        "observations <- matrix(\n",
        "  0,            # the data elemetns\n",
        "  nrow = 6,     # number of rows\n",
        "  ncol = 2,     # number of columns\n",
        "  byrow = TRUE, # fill matrix by rows\n",
        "  dimnames = list(rownames, colnames)\n",
        ")\n",
        "\n",
        "# Print the matrix\n",
        "observations"
      ],
      "metadata": {
        "id": "iJAGTxcB_fWl",
        "outputId": "3ecaea07-c769-4f3f-d4f1-4fa5ae14df6f",
        "colab": {
          "base_uri": "https://localhost:8080/"
        }
      },
      "execution_count": null,
      "outputs": [
        {
          "output_type": "stream",
          "name": "stdout",
          "text": [
            "  1 2\n",
            "1 0 0\n",
            "2 0 0\n",
            "3 0 0\n",
            "4 0 0\n",
            "5 0 0\n",
            "6 0 0\n"
          ]
        }
      ]
    },
    {
      "cell_type": "markdown",
      "source": [
        "Important note: Read more about matrices <a href=\"https://www.r-tutor.com/r-introduction/matrix\">here</a>"
      ],
      "metadata": {
        "id": "aNpFfccr1Y3K"
      }
    },
    {
      "cell_type": "code",
      "metadata": {
        "id": "OvrsPC3M2wXw",
        "outputId": "9a3f1538-cd3a-43d6-9a89-5571932518e3",
        "colab": {
          "base_uri": "https://localhost:8080/"
        }
      },
      "source": [
        "%%R\n",
        "\n",
        "# At the beginning of each experiment, we need to reset elements.\n",
        "observations[, 1] = 0\n",
        "observations[, 2] = 0\n",
        "\n",
        "# This loop will repeat the body, 1000 times.\n",
        "for(i in 1:1000) {\n",
        "  #######################################################################\n",
        "  # Code Here                                                           #\n",
        "  vect<- flip_coin_roll_dice(1)\n",
        "  observations[vect[1],vect[2]]= observations[vect[1],vect[2]]+1\n",
        "  # This loop should update the matrix based on the sampled output.     #\n",
        "  #######################################################################\n",
        "\n",
        "  # In each loop iteration, we increment the observed element of the matrix;\n",
        "  # The observed element is ofcourse the output generated using the\n",
        "  # `flip_coin_roll_dice` function call.\n",
        "  # Pay attention to the indexing. `observations[x, y]` addresses the value of\n",
        "  # row = x and column = y.\n",
        "}\n",
        "\n",
        "# See the observation. Change number of iterations and try again.\n",
        "observations"
      ],
      "execution_count": null,
      "outputs": [
        {
          "output_type": "stream",
          "name": "stdout",
          "text": [
            "   1   2\n",
            "1 99  85\n",
            "2 76  76\n",
            "3 82  84\n",
            "4 73  83\n",
            "5 82 100\n",
            "6 82  78\n"
          ]
        }
      ]
    },
    {
      "cell_type": "code",
      "metadata": {
        "id": "F5yThdgkWlBP",
        "outputId": "a109b78e-1974-4889-e654-841dac62b448",
        "colab": {
          "base_uri": "https://localhost:8080/"
        }
      },
      "source": [
        "%%R\n",
        "# Now we need to calculate the probability of observation [2,4,6] (even roll)\n",
        "# and [1] (head) based on `observations`:\n",
        "result = (observations[2,1]+observations[4,1]+observations[6,1]) / sum(observations)\n",
        "result"
      ],
      "execution_count": null,
      "outputs": [
        {
          "output_type": "stream",
          "name": "stdout",
          "text": [
            "[1] 0.231\n"
          ]
        }
      ]
    },
    {
      "cell_type": "markdown",
      "metadata": {
        "id": "CzFNvI8WXlMy"
      },
      "source": [
        "<div dir='rtl'>\n",
        "حلقه‌ی اصلی آزمایش را با تعداد تکرار ۱۰۰ و ۱۰۰۰۰۰، برای هر کدام ۳ بار تکرار و مشاهدات خود را مکتوب کنید. این مشاهدات را تحلیل کنید.\n",
        "در این تحلیل، علاوه بر آنچه صلاح می‌دانید، موارد زیر را نیز باید بررسی کنید:\n",
        "<br>\n",
        "<li>\n",
        "با توجه به مقدار واقعی احتمال که در ابتدای این بخش، آن را به صورت تئوری\n",
        "محاسبه کردیم، میزان دقت این آزمایش را با تعداد نمونه ۱۰۰ در برابر تعداد نمونه ۱۰۰۰۰۰ مقایسه شود. دلیل این اختلاف اهمیت دارد.\n",
        "</li>\n",
        "<li>\n",
        "نتایج سه بار تکرار، برای کدام حالت\n",
        "(۱۰۰ بار تکرار یا ۱۰۰۰۰۰ بار تکرار)\n",
        " به هم نزدیک‌تراند؟\n",
        "1000000به واقعیت نزدیکتر است زیرا دفعات بیشتری ازمایش تکرار شده است\n",
        "\n",
        "</li>\n",
        "پاسخ) ۱۰۰۰۰۰ بار تکرار به مقدار محاسبه شده در تئوری نزدیکتر است و دلیل آن این است که هرچه تعداد نمونه‌ها بیشتر شود، واریانس جامعه کوچکتر می‌شود.\n",
        "</div>"
      ]
    },
    {
      "cell_type": "code",
      "source": [],
      "metadata": {
        "id": "Q5sDkhY9CJ05"
      },
      "execution_count": null,
      "outputs": []
    },
    {
      "cell_type": "markdown",
      "metadata": {
        "id": "QqXf4UJ_2X3e"
      },
      "source": [
        "<div dir='rtl'>\n",
        "<font color='yellow'  background-color: blue>\n",
        "توجه) در کد‌های ارائه شده در این بخش، از حلقه for استفاده شده است. باید دقت کنید که به صورت کلی استفاده از حلقه مطلوب نبوده و باید از آن پرهیز شود. در این بخش با هدف آشنایی با زبان R این نکته نادیده گرفته شده است اما از بخش بعد، از استفاده‌‌ی از این حلقه تا جای ممکن پرهیز می‌شود.\n",
        "دلیل این پرهیز آن است که محاسبات آماری و نظیر آن، امکان انجام شدن به صورت ماتریسی و موازی در زبان R (و پایتون) را دارند اما زمانی که از حلقه استفاده شود، این مزیت از دست می‌رود و درنتیجه زمان اجرای برنامه‌ها بسیار زیاد می‌شود. روش‌های جایگزینی که جلوتر با آن‌ها آشنا خواهید شد، استفاده از دیتا‌فریم‌ها و ماتریس‌ها و عملگر‌های مختص به آن‌هاست. استفاده از حلقه‌ها باید فقط زمانی صورت بگیرد که شبیه‌سازی مورد نظر واقعا به زمان وابسته باشد و محاسبات هر گام، به گام قبل نیاز داشته باشد. در بخش بعدی تمرین، اجازه استفاده از حلقه ندارید و باید از یک تابع برای محاسبات تکراری استفاده کنید.\n",
        "</font>\n",
        "</div>"
      ]
    },
    {
      "cell_type": "markdown",
      "source": [
        "<div dir='rtl'>\n",
        "<font color='yellow'>\n",
        "<h1>۲. مسئله روز تولد (Birthday Problem)</h1>\n",
        "</font>\n",
        "</div>"
      ],
      "metadata": {
        "id": "DwEzDYslc8xk"
      }
    },
    {
      "cell_type": "markdown",
      "source": [
        "<div dir='rtl'>\n",
        "\n",
        "همانطور که در درس مطرح شد، مسئله تولد این احتمال را بررسی می‌کند که در مجموعه‌ای از n نفر که به‌طور تصادفی انتخاب شده‌اند، حداقل دو نفر یک تولد مشترک داشته باشند.\n",
        "\n",
        "جالب اینجاست که بر خلاف تصور، احتمال تولد مشترک در یک گروه 23 نفره بیش از 50 درصد است!\n",
        "\n",
        "در ادامه این احتمال را به کمک R محاسبه می‌​​​​​​​کنیم.\n",
        "\n",
        "ابتدا این مسئله را به صورت تئوری به ازای k نفر حل کنید.(احتمال اینکه از بین k نفر، دو نفر تولد یکسان داشته باشند چقدر است؟) نیازی به نوشتن اثبات در اینجا نیست.\n",
        "\n",
        "در سلول زیر محاسبات در زبان R انجام شده.\n",
        "</div>\n",
        "\n"
      ],
      "metadata": {
        "id": "a_WuVZXddBoi"
      }
    },
    {
      "cell_type": "code",
      "source": [
        "%%R\n",
        "\n",
        "k <- 23\n",
        "1-prod((365-k+1):365)/365^k"
      ],
      "metadata": {
        "id": "j0Ba_Z_oc8Kn",
        "outputId": "b85d1ce1-ebfd-4871-c1c9-1a0068873240",
        "colab": {
          "base_uri": "https://localhost:8080/"
        }
      },
      "execution_count": null,
      "outputs": [
        {
          "output_type": "stream",
          "name": "stdout",
          "text": [
            "[1] 0.5072972\n"
          ]
        }
      ]
    },
    {
      "cell_type": "markdown",
      "source": [
        "<div dir='rtl'>\n",
        "همانطور که مشاهده می‌کنید به ازای ۲۳ نفر احتمال یکسان بودن تولد دو نفر بیش از ۵۰٪ است.\n",
        "\n",
        "در زبان R برخی توابع کمکی برای مسائل معروف اینچنینی تعریف شده اند.\n",
        "درباره دو تابع pbirthday و qbirthday تحقیق کنید و این دو تابع را توضیح دهید.\n",
        "\n",
        "با استفاده از دو تابع بالا احتمال اینکه از بین ۲۳ نفر حداقل ۳ نفر روز تولدشان یکسان باشد را بیابید.\n",
        "</div>\n",
        "\n"
      ],
      "metadata": {
        "id": "IwjzqWF5in_n"
      }
    },
    {
      "cell_type": "code",
      "source": [
        "%%R\n",
        "\n",
        "#############################################################################\n",
        "#                                   Code Here\n",
        "\n",
        "# Calculate the probability of at least three peaple having the same        #\n",
        "# birthday out of 23 people.                                               #\n",
        "#############################################################################\n",
        "pbirthday(23, classes=365,coincident =3)"
      ],
      "metadata": {
        "id": "8Gd7SX-dg0wb",
        "outputId": "2b2c74c6-8409-4d73-b519-34127a946883",
        "colab": {
          "base_uri": "https://localhost:8080/"
        }
      },
      "execution_count": null,
      "outputs": [
        {
          "output_type": "stream",
          "name": "stdout",
          "text": [
            "[1] 0.01441541\n"
          ]
        }
      ]
    },
    {
      "cell_type": "markdown",
      "source": [
        "<div dir='rtl'>\n",
        "حال با کمک توابع بالا، تعداد افراد لازم برای اینکه احتمال یکسان بودن روز تولد حداقل ۴ نفر بیش از ۰.۸ باشد را بیابید.\n",
        "</div>\n",
        "\n"
      ],
      "metadata": {
        "id": "EuuAAVkq8jCA"
      }
    },
    {
      "cell_type": "code",
      "source": [
        "%%R\n",
        "qbirthday(prob=0.8, classes=365,coincident=4)\n",
        "#############################################################################\n",
        "#                                   Code Here                               #\n",
        "# Calculate the number of people required to have a 0.8 probability         #\n",
        "# of four or more coincident birthdays.                                     #\n",
        "#############################################################################"
      ],
      "metadata": {
        "id": "l3-ewpr78eFj",
        "outputId": "acffe9b0-82bb-40a5-fe07-7668e15bdc7a",
        "colab": {
          "base_uri": "https://localhost:8080/"
        }
      },
      "execution_count": null,
      "outputs": [
        {
          "output_type": "stream",
          "name": "stdout",
          "text": [
            "[1] 237\n"
          ]
        }
      ]
    },
    {
      "cell_type": "markdown",
      "source": [
        "<div dir='rtl'>\n",
        "برای درک بهتر این مسئله میتوان از نمونه برداری استفاده کرد.\n",
        "با تابع sample در بخش قبل آشنا شدید.\n",
        "قطعه کدی بنویسید که یک نمونه ۲۳تایی از روزهای تولد در ۳۶۵ روز سال تولید ‌می کند.\n",
        "\n",
        "</div>\n",
        "\n"
      ],
      "metadata": {
        "id": "UMrDqHKclSzd"
      }
    },
    {
      "cell_type": "code",
      "source": [
        "%%R\n",
        "\n",
        "nemoone <- function(){\n",
        "sample(\n",
        "   x= seq(1,365),\n",
        "  size=23,\n",
        "  replace =TRUE,\n",
        "  prob=rep(1/365,365)\n",
        ")\n",
        "}\n",
        "nemoone ()\n",
        "#############################################################################\n",
        "#                                   Code Here                               #\n",
        "#                      Generate a sample of 23 birthdays                    #\n",
        "#############################################################################"
      ],
      "metadata": {
        "id": "ZMjUGHvvg0kk",
        "outputId": "8304ebb8-7eb3-4603-ff50-8cb9bc1f51bb",
        "colab": {
          "base_uri": "https://localhost:8080/"
        }
      },
      "execution_count": null,
      "outputs": [
        {
          "output_type": "stream",
          "name": "stdout",
          "text": [
            " [1]  49 244 350  39 180  71  50 148 245  83  66 103 320  48 221 231 332 187 358\n",
            "[20]  78  37 210 274\n"
          ]
        }
      ]
    },
    {
      "cell_type": "markdown",
      "source": [
        "<div dir='rtl'>\n",
        "حال این آزمایش را ۱۰۰۰۰ بار تکرار کنید و احتمال اینکه حداقل ۲ نفر روز تولد مشترک داشته باشند را بدست آورید.\n",
        "\n",
        "توجه داشته باشید که در این بخش امکان استفاده از حلقه for را ندارید!\n",
        "\n",
        "راهنمایی: می‌توانید برای بدست آوردن تعداد اعداد یکسان در یک مجموعه از tabulate استفاده کنید.\n",
        "</div>"
      ],
      "metadata": {
        "id": "cSWxoGrtmDIQ"
      }
    },
    {
      "cell_type": "code",
      "source": [
        "%%R\n",
        "possibilityFinder <- function (n){\n",
        "    vect <- c(nemoone())\n",
        "    if (max(tabulate(vect))>1)\n",
        "      return(1)\n",
        "    else\n",
        "      return(0)\n",
        "\n",
        "\n",
        "\n",
        "}\n",
        "\n",
        "\n",
        "samples <- sapply(rep(0,10000), possibilityFinder)\n",
        "possibility<-sum(samples/10000)\n",
        "possibility\n",
        "#############################################################################\n",
        "#                                   Code Here                               #\n",
        "# Calculate the probability of at least to identical birthdays in a group   #\n",
        "# of 23 people using sampling for 10000 times.                              #\n",
        "#############################################################################\n",
        "\n"
      ],
      "metadata": {
        "id": "3XGO9Fuslmq5",
        "outputId": "9da4df3a-b2e7-4c98-f3de-4d6fd934a325",
        "colab": {
          "base_uri": "https://localhost:8080/"
        }
      },
      "execution_count": null,
      "outputs": [
        {
          "output_type": "stream",
          "name": "stdout",
          "text": [
            "[1] 0.5086\n"
          ]
        }
      ]
    }
  ]
}